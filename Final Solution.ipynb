{
  "nbformat": 4,
  "nbformat_minor": 0,
  "metadata": {
    "colab": {
      "provenance": []
    },
    "kernelspec": {
      "name": "python3",
      "display_name": "Python 3"
    },
    "language_info": {
      "name": "python"
    }
  },
  "cells": [
    {
      "cell_type": "code",
      "execution_count": null,
      "metadata": {
        "id": "PiWXB_0FPw7B"
      },
      "outputs": [],
      "source": [
        "import pandas as pd\n",
        "from math import sqrt\n",
        "import xgboost as xgb\n",
        "import lightgbm as lgb\n",
        "from sklearn.metrics import mean_squared_error\n",
        "from sklearn.ensemble import RandomForestRegressor"
      ]
    },
    {
      "cell_type": "code",
      "source": [
        "train_df = pd.read_csv('train.csv')\n",
        "\n",
        "train_size = int(0.8 * len(train_df))\n",
        "train_data = train_df[:train_size]\n",
        "test_data = train_df[train_size:]\n",
        "\n",
        "X_train = train_data.drop(['total_fare', 'fare'], axis=1)\n",
        "y_train = train_data['fare']\n",
        "X_test = test_data.drop(['total_fare', 'fare'], axis=1)\n",
        "y_test = test_data['fare']"
      ],
      "metadata": {
        "id": "Vp4UFVELzVRA"
      },
      "execution_count": null,
      "outputs": []
    },
    {
      "cell_type": "code",
      "source": [
        "models = {\n",
        "    'LightGBM': lgb.LGBMRegressor(reg_alpha = 2,reg_lambda = 0.5,learning_rate=0.1),\n",
        "}\n",
        "\n",
        "results = {}\n",
        "\n",
        "for model_name, model in models.items():\n",
        "    model.fit(X_train, y_train)\n",
        "    y_pred = model.predict(X_test)\n",
        "    y_pred = abs(y_pred)\n",
        "    rmse = sqrt(mean_squared_error(y_test, y_pred))\n",
        "\n",
        "    results[model_name] = {'RMSE': rmse}\n",
        "\n",
        "best_model = min(results, key=lambda x: results[x]['RMSE'])\n",
        "print('Best Model:', best_model)\n",
        "print('RMSE:', results[best_model]['RMSE'])"
      ],
      "metadata": {
        "colab": {
          "base_uri": "https://localhost:8080/"
        },
        "id": "cJYRTwdPzhM7",
        "outputId": "972f569e-4ec3-4d4e-943f-ac682955a559"
      },
      "execution_count": null,
      "outputs": [
        {
          "output_type": "stream",
          "name": "stdout",
          "text": [
            "Best Model: LightGBM\n",
            "RMSE: 33.92262842364048\n"
          ]
        }
      ]
    },
    {
      "cell_type": "code",
      "source": [
        "test_df = pd.read_csv('test.csv')\n",
        "X_final_test = test_df.drop(['total_fare', 'fare'], axis=1)\n",
        "\n",
        "best_model = models[best_model]\n",
        "best_model.fit(X_train, y_train)\n",
        "fare_predictions = best_model.predict(X_final_test)\n",
        "\n",
        "fare_predictions = abs(fare_predictions)\n",
        "test_df['fare'] = fare_predictions"
      ],
      "metadata": {
        "id": "OW_0VAULyvzX"
      },
      "execution_count": null,
      "outputs": []
    },
    {
      "cell_type": "code",
      "source": [
        "test_df['total_fare'] = test_df['fare']+test_df['tip']+test_df['miscellaneous_fees']"
      ],
      "metadata": {
        "id": "w_IfCM29yzlX"
      },
      "execution_count": null,
      "outputs": []
    },
    {
      "cell_type": "code",
      "source": [
        "test_df"
      ],
      "metadata": {
        "colab": {
          "base_uri": "https://localhost:8080/",
          "height": 424
        },
        "id": "AvJc8rxxyzil",
        "outputId": "e09ebeec-3260-467f-dfac-d58cab65a4b0"
      },
      "execution_count": null,
      "outputs": [
        {
          "output_type": "execute_result",
          "data": {
            "text/plain": [
              "       trip_duration  distance_traveled  num_of_passengers        fare  tip  \\\n",
              "0             1076.0               4.18                1.0   97.735307    0   \n",
              "1              429.0               1.48                4.0   48.421578    0   \n",
              "2              856.0               4.15                1.0   86.644780   24   \n",
              "3              622.0               3.22                1.0   69.277001   15   \n",
              "4              507.0               3.98                1.0  109.428009    0   \n",
              "...              ...                ...                ...         ...  ...   \n",
              "89856          435.0               2.24                1.0   52.761079   13   \n",
              "89857          519.0               2.61                1.0   59.704594    7   \n",
              "89858          450.0               2.24                1.0   53.670001    0   \n",
              "89859          919.0               4.12                1.0   89.520957   25   \n",
              "89860          441.0               3.52                1.0   62.909162   23   \n",
              "\n",
              "       miscellaneous_fees  total_fare  surge_applied  \n",
              "0                  13.500  111.235307              0  \n",
              "1                  13.500   61.921578              0  \n",
              "2                   6.000  116.644780              0  \n",
              "3                   5.625   89.902001              0  \n",
              "4                   2.250  111.678009              0  \n",
              "...                   ...         ...            ...  \n",
              "89856              13.700   79.461079              0  \n",
              "89857              13.850   80.554594              0  \n",
              "89858              26.625   80.295001              1  \n",
              "89859              30.200  144.720957              1  \n",
              "89860               6.175   92.084162              0  \n",
              "\n",
              "[89861 rows x 8 columns]"
            ],
            "text/html": [
              "\n",
              "  <div id=\"df-42f75d9b-d5f8-4976-8f31-a0afd9f01ed9\">\n",
              "    <div class=\"colab-df-container\">\n",
              "      <div>\n",
              "<style scoped>\n",
              "    .dataframe tbody tr th:only-of-type {\n",
              "        vertical-align: middle;\n",
              "    }\n",
              "\n",
              "    .dataframe tbody tr th {\n",
              "        vertical-align: top;\n",
              "    }\n",
              "\n",
              "    .dataframe thead th {\n",
              "        text-align: right;\n",
              "    }\n",
              "</style>\n",
              "<table border=\"1\" class=\"dataframe\">\n",
              "  <thead>\n",
              "    <tr style=\"text-align: right;\">\n",
              "      <th></th>\n",
              "      <th>trip_duration</th>\n",
              "      <th>distance_traveled</th>\n",
              "      <th>num_of_passengers</th>\n",
              "      <th>fare</th>\n",
              "      <th>tip</th>\n",
              "      <th>miscellaneous_fees</th>\n",
              "      <th>total_fare</th>\n",
              "      <th>surge_applied</th>\n",
              "    </tr>\n",
              "  </thead>\n",
              "  <tbody>\n",
              "    <tr>\n",
              "      <th>0</th>\n",
              "      <td>1076.0</td>\n",
              "      <td>4.18</td>\n",
              "      <td>1.0</td>\n",
              "      <td>97.735307</td>\n",
              "      <td>0</td>\n",
              "      <td>13.500</td>\n",
              "      <td>111.235307</td>\n",
              "      <td>0</td>\n",
              "    </tr>\n",
              "    <tr>\n",
              "      <th>1</th>\n",
              "      <td>429.0</td>\n",
              "      <td>1.48</td>\n",
              "      <td>4.0</td>\n",
              "      <td>48.421578</td>\n",
              "      <td>0</td>\n",
              "      <td>13.500</td>\n",
              "      <td>61.921578</td>\n",
              "      <td>0</td>\n",
              "    </tr>\n",
              "    <tr>\n",
              "      <th>2</th>\n",
              "      <td>856.0</td>\n",
              "      <td>4.15</td>\n",
              "      <td>1.0</td>\n",
              "      <td>86.644780</td>\n",
              "      <td>24</td>\n",
              "      <td>6.000</td>\n",
              "      <td>116.644780</td>\n",
              "      <td>0</td>\n",
              "    </tr>\n",
              "    <tr>\n",
              "      <th>3</th>\n",
              "      <td>622.0</td>\n",
              "      <td>3.22</td>\n",
              "      <td>1.0</td>\n",
              "      <td>69.277001</td>\n",
              "      <td>15</td>\n",
              "      <td>5.625</td>\n",
              "      <td>89.902001</td>\n",
              "      <td>0</td>\n",
              "    </tr>\n",
              "    <tr>\n",
              "      <th>4</th>\n",
              "      <td>507.0</td>\n",
              "      <td>3.98</td>\n",
              "      <td>1.0</td>\n",
              "      <td>109.428009</td>\n",
              "      <td>0</td>\n",
              "      <td>2.250</td>\n",
              "      <td>111.678009</td>\n",
              "      <td>0</td>\n",
              "    </tr>\n",
              "    <tr>\n",
              "      <th>...</th>\n",
              "      <td>...</td>\n",
              "      <td>...</td>\n",
              "      <td>...</td>\n",
              "      <td>...</td>\n",
              "      <td>...</td>\n",
              "      <td>...</td>\n",
              "      <td>...</td>\n",
              "      <td>...</td>\n",
              "    </tr>\n",
              "    <tr>\n",
              "      <th>89856</th>\n",
              "      <td>435.0</td>\n",
              "      <td>2.24</td>\n",
              "      <td>1.0</td>\n",
              "      <td>52.761079</td>\n",
              "      <td>13</td>\n",
              "      <td>13.700</td>\n",
              "      <td>79.461079</td>\n",
              "      <td>0</td>\n",
              "    </tr>\n",
              "    <tr>\n",
              "      <th>89857</th>\n",
              "      <td>519.0</td>\n",
              "      <td>2.61</td>\n",
              "      <td>1.0</td>\n",
              "      <td>59.704594</td>\n",
              "      <td>7</td>\n",
              "      <td>13.850</td>\n",
              "      <td>80.554594</td>\n",
              "      <td>0</td>\n",
              "    </tr>\n",
              "    <tr>\n",
              "      <th>89858</th>\n",
              "      <td>450.0</td>\n",
              "      <td>2.24</td>\n",
              "      <td>1.0</td>\n",
              "      <td>53.670001</td>\n",
              "      <td>0</td>\n",
              "      <td>26.625</td>\n",
              "      <td>80.295001</td>\n",
              "      <td>1</td>\n",
              "    </tr>\n",
              "    <tr>\n",
              "      <th>89859</th>\n",
              "      <td>919.0</td>\n",
              "      <td>4.12</td>\n",
              "      <td>1.0</td>\n",
              "      <td>89.520957</td>\n",
              "      <td>25</td>\n",
              "      <td>30.200</td>\n",
              "      <td>144.720957</td>\n",
              "      <td>1</td>\n",
              "    </tr>\n",
              "    <tr>\n",
              "      <th>89860</th>\n",
              "      <td>441.0</td>\n",
              "      <td>3.52</td>\n",
              "      <td>1.0</td>\n",
              "      <td>62.909162</td>\n",
              "      <td>23</td>\n",
              "      <td>6.175</td>\n",
              "      <td>92.084162</td>\n",
              "      <td>0</td>\n",
              "    </tr>\n",
              "  </tbody>\n",
              "</table>\n",
              "<p>89861 rows × 8 columns</p>\n",
              "</div>\n",
              "      <button class=\"colab-df-convert\" onclick=\"convertToInteractive('df-42f75d9b-d5f8-4976-8f31-a0afd9f01ed9')\"\n",
              "              title=\"Convert this dataframe to an interactive table.\"\n",
              "              style=\"display:none;\">\n",
              "        \n",
              "  <svg xmlns=\"http://www.w3.org/2000/svg\" height=\"24px\"viewBox=\"0 0 24 24\"\n",
              "       width=\"24px\">\n",
              "    <path d=\"M0 0h24v24H0V0z\" fill=\"none\"/>\n",
              "    <path d=\"M18.56 5.44l.94 2.06.94-2.06 2.06-.94-2.06-.94-.94-2.06-.94 2.06-2.06.94zm-11 1L8.5 8.5l.94-2.06 2.06-.94-2.06-.94L8.5 2.5l-.94 2.06-2.06.94zm10 10l.94 2.06.94-2.06 2.06-.94-2.06-.94-.94-2.06-.94 2.06-2.06.94z\"/><path d=\"M17.41 7.96l-1.37-1.37c-.4-.4-.92-.59-1.43-.59-.52 0-1.04.2-1.43.59L10.3 9.45l-7.72 7.72c-.78.78-.78 2.05 0 2.83L4 21.41c.39.39.9.59 1.41.59.51 0 1.02-.2 1.41-.59l7.78-7.78 2.81-2.81c.8-.78.8-2.07 0-2.86zM5.41 20L4 18.59l7.72-7.72 1.47 1.35L5.41 20z\"/>\n",
              "  </svg>\n",
              "      </button>\n",
              "      \n",
              "  <style>\n",
              "    .colab-df-container {\n",
              "      display:flex;\n",
              "      flex-wrap:wrap;\n",
              "      gap: 12px;\n",
              "    }\n",
              "\n",
              "    .colab-df-convert {\n",
              "      background-color: #E8F0FE;\n",
              "      border: none;\n",
              "      border-radius: 50%;\n",
              "      cursor: pointer;\n",
              "      display: none;\n",
              "      fill: #1967D2;\n",
              "      height: 32px;\n",
              "      padding: 0 0 0 0;\n",
              "      width: 32px;\n",
              "    }\n",
              "\n",
              "    .colab-df-convert:hover {\n",
              "      background-color: #E2EBFA;\n",
              "      box-shadow: 0px 1px 2px rgba(60, 64, 67, 0.3), 0px 1px 3px 1px rgba(60, 64, 67, 0.15);\n",
              "      fill: #174EA6;\n",
              "    }\n",
              "\n",
              "    [theme=dark] .colab-df-convert {\n",
              "      background-color: #3B4455;\n",
              "      fill: #D2E3FC;\n",
              "    }\n",
              "\n",
              "    [theme=dark] .colab-df-convert:hover {\n",
              "      background-color: #434B5C;\n",
              "      box-shadow: 0px 1px 3px 1px rgba(0, 0, 0, 0.15);\n",
              "      filter: drop-shadow(0px 1px 2px rgba(0, 0, 0, 0.3));\n",
              "      fill: #FFFFFF;\n",
              "    }\n",
              "  </style>\n",
              "\n",
              "      <script>\n",
              "        const buttonEl =\n",
              "          document.querySelector('#df-42f75d9b-d5f8-4976-8f31-a0afd9f01ed9 button.colab-df-convert');\n",
              "        buttonEl.style.display =\n",
              "          google.colab.kernel.accessAllowed ? 'block' : 'none';\n",
              "\n",
              "        async function convertToInteractive(key) {\n",
              "          const element = document.querySelector('#df-42f75d9b-d5f8-4976-8f31-a0afd9f01ed9');\n",
              "          const dataTable =\n",
              "            await google.colab.kernel.invokeFunction('convertToInteractive',\n",
              "                                                     [key], {});\n",
              "          if (!dataTable) return;\n",
              "\n",
              "          const docLinkHtml = 'Like what you see? Visit the ' +\n",
              "            '<a target=\"_blank\" href=https://colab.research.google.com/notebooks/data_table.ipynb>data table notebook</a>'\n",
              "            + ' to learn more about interactive tables.';\n",
              "          element.innerHTML = '';\n",
              "          dataTable['output_type'] = 'display_data';\n",
              "          await google.colab.output.renderOutput(dataTable, element);\n",
              "          const docLink = document.createElement('div');\n",
              "          docLink.innerHTML = docLinkHtml;\n",
              "          element.appendChild(docLink);\n",
              "        }\n",
              "      </script>\n",
              "    </div>\n",
              "  </div>\n",
              "  "
            ]
          },
          "metadata": {},
          "execution_count": 7
        }
      ]
    },
    {
      "cell_type": "code",
      "source": [
        "final = test_df['total_fare']\n",
        "final"
      ],
      "metadata": {
        "colab": {
          "base_uri": "https://localhost:8080/"
        },
        "id": "avssZ41syzgI",
        "outputId": "f4319206-bbfb-4474-a347-3b5be2ef8df1"
      },
      "execution_count": null,
      "outputs": [
        {
          "output_type": "execute_result",
          "data": {
            "text/plain": [
              "0        111.235307\n",
              "1         61.921578\n",
              "2        116.644780\n",
              "3         89.902001\n",
              "4        111.678009\n",
              "            ...    \n",
              "89856     79.461079\n",
              "89857     80.554594\n",
              "89858     80.295001\n",
              "89859    144.720957\n",
              "89860     92.084162\n",
              "Name: total_fare, Length: 89861, dtype: float64"
            ]
          },
          "metadata": {},
          "execution_count": 8
        }
      ]
    },
    {
      "cell_type": "code",
      "source": [
        "final.to_csv('lastpred.csv',index=False)"
      ],
      "metadata": {
        "id": "PfED568Xy52b"
      },
      "execution_count": null,
      "outputs": []
    },
    {
      "cell_type": "code",
      "source": [
        "#The End"
      ],
      "metadata": {
        "id": "91ewlj8Vy809"
      },
      "execution_count": null,
      "outputs": []
    }
  ]
}